{
 "cells": [
  {
   "cell_type": "markdown",
   "id": "8cdc857c",
   "metadata": {},
   "source": [
    "# Hosam Wajeeh"
   ]
  },
  {
   "cell_type": "markdown",
   "id": "ba8ad70c",
   "metadata": {},
   "source": [
    "Task#1 Prediction using Supervised ML\n",
    "\n",
    "Predict the percentage of a student based on study hours\n",
    "\n",
    "This is a simple Linear Regression Task which only takes 2 variables\n",
    "\n",
    "What will be the predicted score if the student studied for 9.25 hrs/day?!"
   ]
  },
  {
   "cell_type": "code",
   "execution_count": 1,
   "id": "ea6fae65",
   "metadata": {},
   "outputs": [],
   "source": [
    "import numpy as np\n",
    "import pandas as pd\n",
    "import matplotlib.pyplot as plt\n",
    "import seaborn as sns"
   ]
  },
  {
   "cell_type": "code",
   "execution_count": 2,
   "id": "df17ed66",
   "metadata": {},
   "outputs": [
    {
     "data": {
      "text/html": [
       "<div>\n",
       "<style scoped>\n",
       "    .dataframe tbody tr th:only-of-type {\n",
       "        vertical-align: middle;\n",
       "    }\n",
       "\n",
       "    .dataframe tbody tr th {\n",
       "        vertical-align: top;\n",
       "    }\n",
       "\n",
       "    .dataframe thead th {\n",
       "        text-align: right;\n",
       "    }\n",
       "</style>\n",
       "<table border=\"1\" class=\"dataframe\">\n",
       "  <thead>\n",
       "    <tr style=\"text-align: right;\">\n",
       "      <th></th>\n",
       "      <th>Hours</th>\n",
       "      <th>Scores</th>\n",
       "    </tr>\n",
       "  </thead>\n",
       "  <tbody>\n",
       "    <tr>\n",
       "      <th>0</th>\n",
       "      <td>2.5</td>\n",
       "      <td>21</td>\n",
       "    </tr>\n",
       "    <tr>\n",
       "      <th>1</th>\n",
       "      <td>5.1</td>\n",
       "      <td>47</td>\n",
       "    </tr>\n",
       "    <tr>\n",
       "      <th>2</th>\n",
       "      <td>3.2</td>\n",
       "      <td>27</td>\n",
       "    </tr>\n",
       "    <tr>\n",
       "      <th>3</th>\n",
       "      <td>8.5</td>\n",
       "      <td>75</td>\n",
       "    </tr>\n",
       "    <tr>\n",
       "      <th>4</th>\n",
       "      <td>3.5</td>\n",
       "      <td>30</td>\n",
       "    </tr>\n",
       "  </tbody>\n",
       "</table>\n",
       "</div>"
      ],
      "text/plain": [
       "   Hours  Scores\n",
       "0    2.5      21\n",
       "1    5.1      47\n",
       "2    3.2      27\n",
       "3    8.5      75\n",
       "4    3.5      30"
      ]
     },
     "execution_count": 2,
     "metadata": {},
     "output_type": "execute_result"
    }
   ],
   "source": [
    "#Reading the Data\n",
    "dataset = pd.read_csv('Data.txt')\n",
    "dataset.head()"
   ]
  },
  {
   "cell_type": "code",
   "execution_count": 3,
   "id": "7537e990",
   "metadata": {},
   "outputs": [
    {
     "data": {
      "text/html": [
       "<div>\n",
       "<style scoped>\n",
       "    .dataframe tbody tr th:only-of-type {\n",
       "        vertical-align: middle;\n",
       "    }\n",
       "\n",
       "    .dataframe tbody tr th {\n",
       "        vertical-align: top;\n",
       "    }\n",
       "\n",
       "    .dataframe thead th {\n",
       "        text-align: right;\n",
       "    }\n",
       "</style>\n",
       "<table border=\"1\" class=\"dataframe\">\n",
       "  <thead>\n",
       "    <tr style=\"text-align: right;\">\n",
       "      <th></th>\n",
       "      <th>Hours</th>\n",
       "      <th>Scores</th>\n",
       "    </tr>\n",
       "  </thead>\n",
       "  <tbody>\n",
       "    <tr>\n",
       "      <th>count</th>\n",
       "      <td>25.000000</td>\n",
       "      <td>25.000000</td>\n",
       "    </tr>\n",
       "    <tr>\n",
       "      <th>mean</th>\n",
       "      <td>5.012000</td>\n",
       "      <td>51.480000</td>\n",
       "    </tr>\n",
       "    <tr>\n",
       "      <th>std</th>\n",
       "      <td>2.525094</td>\n",
       "      <td>25.286887</td>\n",
       "    </tr>\n",
       "    <tr>\n",
       "      <th>min</th>\n",
       "      <td>1.100000</td>\n",
       "      <td>17.000000</td>\n",
       "    </tr>\n",
       "    <tr>\n",
       "      <th>25%</th>\n",
       "      <td>2.700000</td>\n",
       "      <td>30.000000</td>\n",
       "    </tr>\n",
       "    <tr>\n",
       "      <th>50%</th>\n",
       "      <td>4.800000</td>\n",
       "      <td>47.000000</td>\n",
       "    </tr>\n",
       "    <tr>\n",
       "      <th>75%</th>\n",
       "      <td>7.400000</td>\n",
       "      <td>75.000000</td>\n",
       "    </tr>\n",
       "    <tr>\n",
       "      <th>max</th>\n",
       "      <td>9.200000</td>\n",
       "      <td>95.000000</td>\n",
       "    </tr>\n",
       "  </tbody>\n",
       "</table>\n",
       "</div>"
      ],
      "text/plain": [
       "           Hours     Scores\n",
       "count  25.000000  25.000000\n",
       "mean    5.012000  51.480000\n",
       "std     2.525094  25.286887\n",
       "min     1.100000  17.000000\n",
       "25%     2.700000  30.000000\n",
       "50%     4.800000  47.000000\n",
       "75%     7.400000  75.000000\n",
       "max     9.200000  95.000000"
      ]
     },
     "execution_count": 3,
     "metadata": {},
     "output_type": "execute_result"
    }
   ],
   "source": [
    "dataset.describe()"
   ]
  },
  {
   "cell_type": "markdown",
   "id": "ae12e9f4",
   "metadata": {},
   "source": [
    "The dataset consists of 25 records with an average of 5 hours of study time per student and a 51.48% average Score \n",
    "\n",
    "Max hours studied are 9.2 while we want to predict on 9.25?!\n",
    "\n",
    "From what i know it isnt recommended to use linear regression on values that are higher than the max values in the training set?\n"
   ]
  },
  {
   "cell_type": "code",
   "execution_count": 4,
   "id": "98bc5715",
   "metadata": {},
   "outputs": [
    {
     "name": "stdout",
     "output_type": "stream",
     "text": [
      "<class 'pandas.core.frame.DataFrame'>\n",
      "RangeIndex: 25 entries, 0 to 24\n",
      "Data columns (total 2 columns):\n",
      " #   Column  Non-Null Count  Dtype  \n",
      "---  ------  --------------  -----  \n",
      " 0   Hours   25 non-null     float64\n",
      " 1   Scores  25 non-null     int64  \n",
      "dtypes: float64(1), int64(1)\n",
      "memory usage: 528.0 bytes\n"
     ]
    }
   ],
   "source": [
    "dataset.info()"
   ]
  },
  {
   "cell_type": "markdown",
   "id": "e3ae453b",
   "metadata": {},
   "source": [
    "## Using Seaborn Scatter plot to viusalize the relationship between Hours and Scores"
   ]
  },
  {
   "cell_type": "code",
   "execution_count": 5,
   "id": "70d61004",
   "metadata": {},
   "outputs": [
    {
     "data": {
      "image/png": "[encoded data removed]",
      "text/plain": [
       "<Figure size 432x288 with 1 Axes>"
      ]
     },
     "metadata": {
      "needs_background": "light"
     },
     "output_type": "display_data"
    }
   ],
   "source": [
    "sns.scatterplot(data=dataset, x='Hours', y='Scores')\n",
    "plt.title('Hours Studied vs Scores')\n",
    "plt.xlabel('Hours')\n",
    "plt.ylabel('Scores')\n",
    "plt.show()"
   ]
  },
  {
   "cell_type": "code",
   "execution_count": 6,
   "id": "60b37377",
   "metadata": {},
   "outputs": [
    {
     "data": {
      "text/html": [
       "<div>\n",
       "<style scoped>\n",
       "    .dataframe tbody tr th:only-of-type {\n",
       "        vertical-align: middle;\n",
       "    }\n",
       "\n",
       "    .dataframe tbody tr th {\n",
       "        vertical-align: top;\n",
       "    }\n",
       "\n",
       "    .dataframe thead th {\n",
       "        text-align: right;\n",
       "    }\n",
       "</style>\n",
       "<table border=\"1\" class=\"dataframe\">\n",
       "  <thead>\n",
       "    <tr style=\"text-align: right;\">\n",
       "      <th></th>\n",
       "      <th>Hours</th>\n",
       "      <th>Scores</th>\n",
       "    </tr>\n",
       "  </thead>\n",
       "  <tbody>\n",
       "    <tr>\n",
       "      <th>Hours</th>\n",
       "      <td>1.000000</td>\n",
       "      <td>0.976191</td>\n",
       "    </tr>\n",
       "    <tr>\n",
       "      <th>Scores</th>\n",
       "      <td>0.976191</td>\n",
       "      <td>1.000000</td>\n",
       "    </tr>\n",
       "  </tbody>\n",
       "</table>\n",
       "</div>"
      ],
      "text/plain": [
       "           Hours    Scores\n",
       "Hours   1.000000  0.976191\n",
       "Scores  0.976191  1.000000"
      ]
     },
     "execution_count": 6,
     "metadata": {},
     "output_type": "execute_result"
    }
   ],
   "source": [
    "#From the scatter plot theres a linear relationship between the hours studied and the scores\n",
    "dataset.corr() "
   ]
  },
  {
   "cell_type": "markdown",
   "id": "89010663",
   "metadata": {},
   "source": [
    "Splitting the data into Feaures and Labels(Target)"
   ]
  },
  {
   "cell_type": "code",
   "execution_count": 7,
   "id": "99a52673",
   "metadata": {},
   "outputs": [],
   "source": [
    "X = dataset['Hours']\n",
    "y = dataset['Scores']"
   ]
  },
  {
   "cell_type": "markdown",
   "id": "a08643ac",
   "metadata": {},
   "source": [
    "The Linear Regression object needs the input to be in an array shape of (-1, 1)or(1,-1) also the .reshape doesnt work\n",
    "on series and the .values changes the X and y from series to an array"
   ]
  },
  {
   "cell_type": "code",
   "execution_count": 8,
   "id": "f9a9a837",
   "metadata": {},
   "outputs": [],
   "source": [
    "X_clean = X.values.reshape(-1, 1)\n",
    "y_clean = y.values.reshape(-1, 1)"
   ]
  },
  {
   "cell_type": "markdown",
   "id": "412dc133",
   "metadata": {},
   "source": [
    "Splitting the data into train/test sets"
   ]
  },
  {
   "cell_type": "code",
   "execution_count": 9,
   "id": "6edf789f",
   "metadata": {},
   "outputs": [],
   "source": [
    "from sklearn.model_selection import train_test_split\n",
    "X_train, X_test, y_train, y_test = train_test_split(X_clean, y_clean, test_size=0.2, random_state=0)"
   ]
  },
  {
   "cell_type": "markdown",
   "id": "03413c60",
   "metadata": {},
   "source": [
    "Building the mode"
   ]
  },
  {
   "cell_type": "code",
   "execution_count": 10,
   "id": "e64b20ee",
   "metadata": {},
   "outputs": [
    {
     "data": {
      "text/plain": [
       "LinearRegression()"
      ]
     },
     "execution_count": 10,
     "metadata": {},
     "output_type": "execute_result"
    }
   ],
   "source": [
    "from sklearn.linear_model import LinearRegression\n",
    "lr = LinearRegression()\n",
    "lr.fit(X_train, y_train)"
   ]
  },
  {
   "cell_type": "markdown",
   "id": "f320dff2",
   "metadata": {},
   "source": [
    "### Visualising the Training results"
   ]
  },
  {
   "cell_type": "code",
   "execution_count": 11,
   "id": "b0fd035d",
   "metadata": {},
   "outputs": [
    {
     "data": {
      "image/png": "[encoded data removed]",
      "text/plain": [
       "<Figure size 432x288 with 1 Axes>"
      ]
     },
     "metadata": {
      "needs_background": "light"
     },
     "output_type": "display_data"
    }
   ],
   "source": [
    "plt.scatter(X_train, y_train, color = 'red')\n",
    "plt.plot(X_train, lr.predict(X_train), color = 'blue')\n",
    "plt.title('Training Results')\n",
    "plt.xlabel('Hours')\n",
    "plt.ylabel('Scores')\n",
    "plt.show()"
   ]
  },
  {
   "cell_type": "markdown",
   "id": "288c3d02",
   "metadata": {},
   "source": [
    "### Visualising the test results\n"
   ]
  },
  {
   "cell_type": "code",
   "execution_count": 12,
   "id": "91d500b6",
   "metadata": {},
   "outputs": [
    {
     "data": {
      "image/png": "[encoded data removed]",
      "text/plain": [
       "<Figure size 432x288 with 1 Axes>"
      ]
     },
     "metadata": {
      "needs_background": "light"
     },
     "output_type": "display_data"
    }
   ],
   "source": [
    "plt.scatter(X_test, y_test, color = 'red')\n",
    "plt.plot(X_test, lr.predict(X_test), color = 'blue')\n",
    "plt.title('Test Results')\n",
    "plt.xlabel('Hours')\n",
    "plt.ylabel('Scores')\n",
    "plt.show()"
   ]
  },
  {
   "cell_type": "markdown",
   "id": "2a86cecc",
   "metadata": {},
   "source": [
    "### Prediction accuracy on the train data\n"
   ]
  },
  {
   "cell_type": "code",
   "execution_count": 13,
   "id": "3e7d351a",
   "metadata": {},
   "outputs": [
    {
     "name": "stdout",
     "output_type": "stream",
     "text": [
      "Train R2 Score: 95.16%\n",
      "Train MAE: 5.186601709180368\n"
     ]
    }
   ],
   "source": [
    "y_pred_train = lr.predict(X_train)\n",
    "from sklearn.metrics import r2_score, mean_absolute_error\n",
    "print('Train R2 Score:',  '{:.2f}%'.format(r2_score(y_train, y_pred_train)*100))\n",
    "print('Train MAE:',mean_absolute_error(y_train, y_pred_train))"
   ]
  },
  {
   "cell_type": "markdown",
   "id": "0ae14d2e",
   "metadata": {},
   "source": [
    "### Prediction accuracy on the test data"
   ]
  },
  {
   "cell_type": "code",
   "execution_count": 14,
   "id": "d382b81b",
   "metadata": {},
   "outputs": [
    {
     "name": "stdout",
     "output_type": "stream",
     "text": [
      "Test R2 Score: 94.55%\n",
      "Test MAE: 4.183859899002975\n"
     ]
    }
   ],
   "source": [
    "y_pred = lr.predict(X_test)\n",
    "from sklearn.metrics import r2_score, mean_absolute_error\n",
    "print('Test R2 Score:',  '{:.2f}%'.format(r2_score(y_test, y_pred)*100))\n",
    "print('Test MAE:',mean_absolute_error(y_test, y_pred))"
   ]
  },
  {
   "cell_type": "markdown",
   "id": "aea90a7a",
   "metadata": {},
   "source": [
    "### What will be the predicted score if the student studied for 9.25 hrs/day?!\n"
   ]
  },
  {
   "cell_type": "code",
   "execution_count": 15,
   "id": "7d1726ad",
   "metadata": {},
   "outputs": [
    {
     "name": "stdout",
     "output_type": "stream",
     "text": [
      "If a student studies for 9.25 hrs/day we can expect a score arround 93.69%\n"
     ]
    }
   ],
   "source": [
    "Prediction = lr.predict(np.array([9.25]).reshape(-1,1))\n",
    "print('If a student studies for 9.25 hrs/day we can expect a score arround', '{:.2f}%'.format(Prediction[0,0]))"
   ]
  }
 ],
 "metadata": {
  "kernelspec": {
   "display_name": "Python 3 (ipykernel)",
   "language": "python",
   "name": "python3"
  },
  "language_info": {
   "codemirror_mode": {
    "name": "ipython",
    "version": 3
   },
   "file_extension": ".py",
   "mimetype": "text/x-python",
   "name": "python",
   "nbconvert_exporter": "python",
   "pygments_lexer": "ipython3",
   "version": "3.9.7"
  }
 },
 "nbformat": 4,
 "nbformat_minor": 5
}
